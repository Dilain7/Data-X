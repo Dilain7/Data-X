{
 "cells": [
  {
   "cell_type": "code",
   "execution_count": 1,
   "id": "77271e36",
   "metadata": {},
   "outputs": [
    {
     "name": "stdout",
     "output_type": "stream",
     "text": [
      "Collecting geoplot\n",
      "  Using cached geoplot-0.4.4-py3-none-any.whl (29 kB)\n",
      "Requirement already satisfied: matplotlib in /opt/conda/lib/python3.9/site-packages (from geoplot) (3.4.3)\n",
      "Requirement already satisfied: geopandas>=0.9.0 in /opt/conda/lib/python3.9/site-packages (from geoplot) (0.10.2)\n",
      "Requirement already satisfied: mapclassify>=2.1 in /opt/conda/lib/python3.9/site-packages (from geoplot) (2.4.3)\n",
      "Requirement already satisfied: cartopy in /opt/conda/lib/python3.9/site-packages (from geoplot) (0.20.1)\n",
      "Requirement already satisfied: pandas in /opt/conda/lib/python3.9/site-packages (from geoplot) (1.3.4)\n",
      "Requirement already satisfied: seaborn in /opt/conda/lib/python3.9/site-packages (from geoplot) (0.11.2)\n",
      "Requirement already satisfied: contextily>=1.0.0 in /opt/conda/lib/python3.9/site-packages (from geoplot) (1.1.0)\n",
      "Requirement already satisfied: python-dateutil>=2.7 in /opt/conda/lib/python3.9/site-packages (from matplotlib->geoplot) (2.8.0)\n",
      "Requirement already satisfied: kiwisolver>=1.0.1 in /opt/conda/lib/python3.9/site-packages (from matplotlib->geoplot) (1.3.2)\n",
      "Requirement already satisfied: numpy>=1.16 in /opt/conda/lib/python3.9/site-packages (from matplotlib->geoplot) (1.21.3)\n",
      "Requirement already satisfied: pillow>=6.2.0 in /opt/conda/lib/python3.9/site-packages (from matplotlib->geoplot) (8.3.2)\n",
      "Requirement already satisfied: pyparsing>=2.2.1 in /opt/conda/lib/python3.9/site-packages (from matplotlib->geoplot) (2.4.7)\n",
      "Requirement already satisfied: cycler>=0.10 in /opt/conda/lib/python3.9/site-packages (from matplotlib->geoplot) (0.11.0)\n",
      "Requirement already satisfied: shapely>=1.6 in /opt/conda/lib/python3.9/site-packages (from geopandas>=0.9.0->geoplot) (1.8.0)\n",
      "Requirement already satisfied: pyproj>=2.2.0 in /opt/conda/lib/python3.9/site-packages (from geopandas>=0.9.0->geoplot) (3.2.1)\n",
      "Requirement already satisfied: fiona>=1.8 in /opt/conda/lib/python3.9/site-packages (from geopandas>=0.9.0->geoplot) (1.8.20)\n",
      "Requirement already satisfied: scipy>=1.0 in /opt/conda/lib/python3.9/site-packages (from mapclassify>=2.1->geoplot) (1.7.1)\n",
      "Requirement already satisfied: networkx in /opt/conda/lib/python3.9/site-packages (from mapclassify>=2.1->geoplot) (2.6.3)\n",
      "Requirement already satisfied: scikit-learn in /opt/conda/lib/python3.9/site-packages (from mapclassify>=2.1->geoplot) (0.24.2)\n",
      "Requirement already satisfied: pyshp>=2.1 in /opt/conda/lib/python3.9/site-packages (from cartopy->geoplot) (2.1.3)\n",
      "Requirement already satisfied: pytz>=2017.3 in /opt/conda/lib/python3.9/site-packages (from pandas->geoplot) (2021.1)\n",
      "Requirement already satisfied: mercantile in /opt/conda/lib/python3.9/site-packages (from contextily>=1.0.0->geoplot) (1.2.1)\n",
      "Requirement already satisfied: rasterio in /opt/conda/lib/python3.9/site-packages (from contextily>=1.0.0->geoplot) (1.2.10)\n",
      "Requirement already satisfied: requests in /opt/conda/lib/python3.9/site-packages (from contextily>=1.0.0->geoplot) (2.26.0)\n",
      "Requirement already satisfied: geopy in /opt/conda/lib/python3.9/site-packages (from contextily>=1.0.0->geoplot) (2.2.0)\n",
      "Requirement already satisfied: joblib in /opt/conda/lib/python3.9/site-packages (from contextily>=1.0.0->geoplot) (1.0.1)\n",
      "Requirement already satisfied: six>=1.5 in /opt/conda/lib/python3.9/site-packages (from python-dateutil>=2.7->matplotlib->geoplot) (1.16.0)\n",
      "Requirement already satisfied: certifi in /opt/conda/lib/python3.9/site-packages (from pyproj>=2.2.0->geopandas>=0.9.0->geoplot) (2019.11.28)\n",
      "Requirement already satisfied: click>=4.0 in /opt/conda/lib/python3.9/site-packages (from fiona>=1.8->geopandas>=0.9.0->geoplot) (8.0.3)\n",
      "Requirement already satisfied: attrs>=17 in /opt/conda/lib/python3.9/site-packages (from fiona>=1.8->geopandas>=0.9.0->geoplot) (19.3.0)\n",
      "Requirement already satisfied: setuptools in /opt/conda/lib/python3.9/site-packages (from fiona>=1.8->geopandas>=0.9.0->geoplot) (58.2.0)\n",
      "Requirement already satisfied: click-plugins>=1.0 in /opt/conda/lib/python3.9/site-packages (from fiona>=1.8->geopandas>=0.9.0->geoplot) (1.1.1)\n",
      "Requirement already satisfied: munch in /opt/conda/lib/python3.9/site-packages (from fiona>=1.8->geopandas>=0.9.0->geoplot) (2.5.0)\n",
      "Requirement already satisfied: cligj>=0.5 in /opt/conda/lib/python3.9/site-packages (from fiona>=1.8->geopandas>=0.9.0->geoplot) (0.7.2)\n",
      "Requirement already satisfied: threadpoolctl>=2.0.0 in /opt/conda/lib/python3.9/site-packages (from scikit-learn->mapclassify>=2.1->geoplot) (3.0.0)\n",
      "Requirement already satisfied: affine in /opt/conda/lib/python3.9/site-packages (from rasterio->contextily>=1.0.0->geoplot) (2.3.0)\n",
      "Requirement already satisfied: snuggs>=1.4.1 in /opt/conda/lib/python3.9/site-packages (from rasterio->contextily>=1.0.0->geoplot) (1.4.7)\n",
      "Requirement already satisfied: idna<4,>=2.5; python_version >= \"3\" in /opt/conda/lib/python3.9/site-packages (from requests->contextily>=1.0.0->geoplot) (2.8)\n",
      "Requirement already satisfied: charset-normalizer~=2.0.0; python_version >= \"3\" in /opt/conda/lib/python3.9/site-packages (from requests->contextily>=1.0.0->geoplot) (2.0.0)\n",
      "Requirement already satisfied: urllib3<1.27,>=1.21.1 in /opt/conda/lib/python3.9/site-packages (from requests->contextily>=1.0.0->geoplot) (1.25.7)\n",
      "Requirement already satisfied: geographiclib<2,>=1.49 in /opt/conda/lib/python3.9/site-packages (from geopy->contextily>=1.0.0->geoplot) (1.52)\n",
      "Installing collected packages: geoplot\n",
      "Successfully installed geoplot-0.4.4\n",
      "Note: you may need to restart the kernel to use updated packages.\n"
     ]
    }
   ],
   "source": [
    "pip install geoplot"
   ]
  },
  {
   "cell_type": "code",
   "execution_count": 1,
   "id": "c036bb44",
   "metadata": {},
   "outputs": [],
   "source": [
    "import pandas as pd\n",
    "import numpy as np \n",
    "import seaborn as sns \n",
    "\n",
    "import matplotlib.pyplot as plt"
   ]
  },
  {
   "cell_type": "code",
   "execution_count": 2,
   "id": "e4e029dd",
   "metadata": {},
   "outputs": [],
   "source": [
    "# Read the Addresses File \n",
    "\n",
    "berk_addys = pd.read_csv('berkeley_addresses_3.csv')"
   ]
  },
  {
   "cell_type": "code",
   "execution_count": 3,
   "id": "6451262b",
   "metadata": {},
   "outputs": [
    {
     "data": {
      "text/plain": [
       "700 UNIVERSITY AVE BERKELEY 94710      177\n",
       "3RD ST BERKELEY 94710                   29\n",
       "CRAGMONT AVE BERKELEY 94708             25\n",
       "KEELER AVE BERKELEY 94708               18\n",
       "2634 VIRGINIA ST BERKELEY 94709         17\n",
       "                                      ... \n",
       "2006 DWIGHT WAY BERKELEY 94704           1\n",
       "2020 DWIGHT WAY BERKELEY 94704           1\n",
       "2520 SHATTUCK AVE BERKELEY 94704         1\n",
       "2514 SHATTUCK AVE BERKELEY 94704         1\n",
       "1510 SAN LORENZO AVE BERKELEY 94707      1\n",
       "Name: Address, Length: 27610, dtype: int64"
      ]
     },
     "execution_count": 3,
     "metadata": {},
     "output_type": "execute_result"
    }
   ],
   "source": [
    "# Show the number of repeated addresses\n",
    "\n",
    "berk_addys['Address'].value_counts()"
   ]
  },
  {
   "cell_type": "code",
   "execution_count": 4,
   "id": "fccdea3d",
   "metadata": {},
   "outputs": [],
   "source": [
    "# Drop all null rows\n",
    "\n",
    "berk_addys = berk_addys.dropna()"
   ]
  },
  {
   "cell_type": "markdown",
   "id": "bebf2523",
   "metadata": {},
   "source": [
    "## Adding Weights "
   ]
  },
  {
   "cell_type": "code",
   "execution_count": 5,
   "id": "40e157c6",
   "metadata": {},
   "outputs": [
    {
     "data": {
      "text/plain": [
       "29003"
      ]
     },
     "execution_count": 5,
     "metadata": {},
     "output_type": "execute_result"
    }
   ],
   "source": [
    "len(berk_addys)"
   ]
  },
  {
   "cell_type": "code",
   "execution_count": 6,
   "id": "6e0cc94b",
   "metadata": {},
   "outputs": [],
   "source": [
    "import random\n",
    "\n",
    "a = [random.randint(1,4) for i in range(0, len(berk_addys))]"
   ]
  },
  {
   "cell_type": "code",
   "execution_count": 7,
   "id": "dd334d3b",
   "metadata": {},
   "outputs": [
    {
     "data": {
      "text/plain": [
       "29003"
      ]
     },
     "execution_count": 7,
     "metadata": {},
     "output_type": "execute_result"
    }
   ],
   "source": [
    "len(a)"
   ]
  },
  {
   "cell_type": "code",
   "execution_count": 8,
   "id": "83050228",
   "metadata": {},
   "outputs": [],
   "source": [
    "berk_addys['Weights'] = a"
   ]
  },
  {
   "cell_type": "code",
   "execution_count": 11,
   "id": "11fe7388",
   "metadata": {},
   "outputs": [],
   "source": [
    "berk_ships_weighs = berk_addys.sample(frac = 2.5, replace = True, random_state = 24, axis = 0, weights = a)"
   ]
  },
  {
   "cell_type": "code",
   "execution_count": 12,
   "id": "fe624d16",
   "metadata": {},
   "outputs": [],
   "source": [
    "shipment_top50_weights = berk_ships_weights['Address']"
   ]
  },
  {
   "cell_type": "code",
   "execution_count": null,
   "id": "14effce0",
   "metadata": {},
   "outputs": [],
   "source": []
  },
  {
   "cell_type": "code",
   "execution_count": null,
   "id": "a84876cf",
   "metadata": {},
   "outputs": [],
   "source": []
  },
  {
   "cell_type": "code",
   "execution_count": 11,
   "id": "a5d3f93d",
   "metadata": {},
   "outputs": [],
   "source": [
    "berk_shipments = berk_addys.sample(frac = 1.5, replace = True, random_state = 24, axis = 0)"
   ]
  },
  {
   "cell_type": "code",
   "execution_count": 12,
   "id": "d5c1117f",
   "metadata": {},
   "outputs": [],
   "source": [
    "shipment_top50 = berk_shipments['Address'].value_counts().sort_values(ascending = False).nlargest(50)"
   ]
  },
  {
   "cell_type": "code",
   "execution_count": 13,
   "id": "a68e09e3",
   "metadata": {},
   "outputs": [],
   "source": [
    "remove_these_indexes = berk_shipments[berk_shipments['Address'].str.contains('700 UNIVERSITY AVE BERKELEY 94710')].index.tolist()"
   ]
  },
  {
   "cell_type": "code",
   "execution_count": 14,
   "id": "e628ebba",
   "metadata": {},
   "outputs": [
    {
     "data": {
      "text/plain": [
       "276"
      ]
     },
     "execution_count": 14,
     "metadata": {},
     "output_type": "execute_result"
    }
   ],
   "source": [
    "len(remove_these_indexes)"
   ]
  },
  {
   "cell_type": "code",
   "execution_count": 15,
   "id": "a52169b3",
   "metadata": {},
   "outputs": [
    {
     "data": {
      "text/plain": [
       "175"
      ]
     },
     "execution_count": 15,
     "metadata": {},
     "output_type": "execute_result"
    }
   ],
   "source": [
    "remove_these_indexes_1 = remove_these_indexes[:175]\n",
    "len(remove_these_indexes_1)"
   ]
  },
  {
   "cell_type": "code",
   "execution_count": 16,
   "id": "1807bd33",
   "metadata": {},
   "outputs": [],
   "source": [
    "berk_shipments_1 = berk_shipments.drop(remove_these_indexes_1)"
   ]
  },
  {
   "cell_type": "code",
   "execution_count": 17,
   "id": "13cc3445",
   "metadata": {},
   "outputs": [
    {
     "data": {
      "text/plain": [
       "3RD ST BERKELEY 94710                   42\n",
       "700 UNIVERSITY AVE BERKELEY 94710       34\n",
       "CRAGMONT AVE BERKELEY 94708             29\n",
       "KEELER AVE BERKELEY 94708               26\n",
       "5TH ST BERKELEY 94710                   26\n",
       "KEITH AVE BERKELEY 94708                23\n",
       "GRIZZLY PEAK BLVD BERKELEY 94708        21\n",
       "2201 VIRGINIA ST BERKELEY 94709         21\n",
       "2634 VIRGINIA ST BERKELEY 94709         20\n",
       "HILL RD BERKELEY 94708                  20\n",
       "WOODMONT AVE BERKELEY 94708             20\n",
       "PANORAMIC WAY BERKELEY 94704            20\n",
       "2974 COLLEGE AVE BERKELEY 94705         19\n",
       "WEST ST BERKELEY 94702                  18\n",
       "2628 TELEGRAPH AVE BERKELEY 94704       18\n",
       "2700 LE CONTE AVE BERKELEY 94709        17\n",
       "SHASTA RD BERKELEY 94708                17\n",
       "DWIGHT WAY BERKELEY 94704               17\n",
       "EUCLID AVE BERKELEY 94708               17\n",
       "MAYBECK TWIN DR BERKELEY 94708          17\n",
       "CAMPUS DR BERKELEY 94708                17\n",
       "STERLING AVE BERKELEY 94708             16\n",
       "1515 OXFORD ST BERKELEY 94709           16\n",
       "1528 JULIA ST BERKELEY 94703            15\n",
       "HILGARD AVE BERKELEY 94709              14\n",
       "1423 WALNUT ST BERKELEY 94709           14\n",
       "EASTSHORE FWY BERKELEY 94710            14\n",
       "BUENA VISTA WAY BERKELEY 94708          14\n",
       "2632 WARRING ST BERKELEY 94704          13\n",
       "GILMAN ST BERKELEY 94710                13\n",
       "SAN PABLO AVE BERKELEY 94702            12\n",
       "COLLEGE AVE BERKELEY 94705              12\n",
       "2614 WARRING ST BERKELEY 94704          11\n",
       "FULTON ST BERKELEY 94704                11\n",
       "ROSE ST BERKELEY 94702                  11\n",
       "2151 STUART ST BERKELEY 94705           11\n",
       "GLENDALE AVE BERKELEY 94708             10\n",
       "9TH ST BERKELEY 94710                   10\n",
       "1625 SHATTUCK AVE BERKELEY 94709        10\n",
       "3038 HALCYON CT BERKELEY 94705          10\n",
       "1406 EUCLID AVE BERKELEY 94708          10\n",
       "2626 HILLEGASS AVE BERKELEY 94704        9\n",
       "OXFORD ST BERKELEY 94709                 9\n",
       "1450 WARD ST BERKELEY 94702              9\n",
       "POTTER ST BERKELEY 94710                 9\n",
       "519 GRIZZLY PEAK BLVD BERKELEY 94708     9\n",
       "SUMMIT RD BERKELEY 94708                 9\n",
       "CRESTON RD BERKELEY 94708                9\n",
       "2133 DERBY ST BERKELEY 94705             9\n",
       "2322 MCGEE AVE BERKELEY 94703            9\n",
       "Name: Address, dtype: int64"
      ]
     },
     "execution_count": 17,
     "metadata": {},
     "output_type": "execute_result"
    }
   ],
   "source": [
    "shipment_top50_1 = berk_shipments_1['Address'].value_counts().sort_values(ascending = False).nlargest(50)\n",
    "shipment_top50_1"
   ]
  },
  {
   "cell_type": "code",
   "execution_count": 139,
   "id": "423e5c6a",
   "metadata": {},
   "outputs": [
    {
     "data": {
      "text/html": [
       "<div>\n",
       "<style scoped>\n",
       "    .dataframe tbody tr th:only-of-type {\n",
       "        vertical-align: middle;\n",
       "    }\n",
       "\n",
       "    .dataframe tbody tr th {\n",
       "        vertical-align: top;\n",
       "    }\n",
       "\n",
       "    .dataframe thead th {\n",
       "        text-align: right;\n",
       "    }\n",
       "</style>\n",
       "<table border=\"1\" class=\"dataframe\">\n",
       "  <thead>\n",
       "    <tr style=\"text-align: right;\">\n",
       "      <th></th>\n",
       "      <th>the_geom</th>\n",
       "      <th>Street</th>\n",
       "      <th>City</th>\n",
       "      <th>Zip</th>\n",
       "      <th>Address</th>\n",
       "      <th>Longitude</th>\n",
       "      <th>Latitude</th>\n",
       "    </tr>\n",
       "  </thead>\n",
       "  <tbody>\n",
       "    <tr>\n",
       "      <th>12712</th>\n",
       "      <td>MULTIPOLYGON (((-122.2953045993628 37.86952168...</td>\n",
       "      <td>8TH ST</td>\n",
       "      <td>BERKELEY</td>\n",
       "      <td>94710.0</td>\n",
       "      <td>1909 8TH ST BERKELEY 94710</td>\n",
       "      <td>-122.295504</td>\n",
       "      <td>37.869435</td>\n",
       "    </tr>\n",
       "    <tr>\n",
       "      <th>901</th>\n",
       "      <td>MULTIPOLYGON (((-122.24838719631153 37.8571066...</td>\n",
       "      <td>PINE AVE</td>\n",
       "      <td>BERKELEY</td>\n",
       "      <td>94705.0</td>\n",
       "      <td>2940 PINE AVE BERKELEY 94705</td>\n",
       "      <td>-122.248536</td>\n",
       "      <td>37.857164</td>\n",
       "    </tr>\n",
       "    <tr>\n",
       "      <th>14534</th>\n",
       "      <td>MULTIPOLYGON (((-122.25519423409801 37.8764891...</td>\n",
       "      <td>HIGHLAND PL</td>\n",
       "      <td>BERKELEY</td>\n",
       "      <td>94709.0</td>\n",
       "      <td>1771 HIGHLAND PL BERKELEY 94709</td>\n",
       "      <td>-122.255483</td>\n",
       "      <td>37.876607</td>\n",
       "    </tr>\n",
       "    <tr>\n",
       "      <th>24925</th>\n",
       "      <td>MULTIPOLYGON (((-122.28372085727219 37.8982569...</td>\n",
       "      <td>VINCENTE AVE</td>\n",
       "      <td>BERKELEY</td>\n",
       "      <td>94707.0</td>\n",
       "      <td>543 VINCENTE AVE BERKELEY 94707</td>\n",
       "      <td>-122.283898</td>\n",
       "      <td>37.898327</td>\n",
       "    </tr>\n",
       "    <tr>\n",
       "      <th>19863</th>\n",
       "      <td>MULTIPOLYGON (((-122.26638268519565 37.8834316...</td>\n",
       "      <td>SPRUCE ST</td>\n",
       "      <td>BERKELEY</td>\n",
       "      <td>94709.0</td>\n",
       "      <td>1320 SPRUCE ST BERKELEY 94709</td>\n",
       "      <td>-122.266621</td>\n",
       "      <td>37.883456</td>\n",
       "    </tr>\n",
       "    <tr>\n",
       "      <th>...</th>\n",
       "      <td>...</td>\n",
       "      <td>...</td>\n",
       "      <td>...</td>\n",
       "      <td>...</td>\n",
       "      <td>...</td>\n",
       "      <td>...</td>\n",
       "      <td>...</td>\n",
       "    </tr>\n",
       "    <tr>\n",
       "      <th>22204</th>\n",
       "      <td>MULTIPOLYGON (((-122.28151321716126 37.8872372...</td>\n",
       "      <td>TULARE AVE</td>\n",
       "      <td>BERKELEY</td>\n",
       "      <td>94707.0</td>\n",
       "      <td>983 TULARE AVE BERKELEY 94707</td>\n",
       "      <td>-122.281741</td>\n",
       "      <td>37.887218</td>\n",
       "    </tr>\n",
       "    <tr>\n",
       "      <th>13904</th>\n",
       "      <td>MULTIPOLYGON (((-122.2693225584342 37.87059909...</td>\n",
       "      <td>ADDISON ST</td>\n",
       "      <td>BERKELEY</td>\n",
       "      <td>94704.0</td>\n",
       "      <td>2026 ADDISON ST BERKELEY 94704</td>\n",
       "      <td>-122.269442</td>\n",
       "      <td>37.870766</td>\n",
       "    </tr>\n",
       "    <tr>\n",
       "      <th>4201</th>\n",
       "      <td>MULTIPOLYGON (((-122.27932908962602 37.8537690...</td>\n",
       "      <td>SACRAMENTO ST</td>\n",
       "      <td>BERKELEY</td>\n",
       "      <td>94702.0</td>\n",
       "      <td>2960 SACRAMENTO ST BERKELEY 94702</td>\n",
       "      <td>-122.279507</td>\n",
       "      <td>37.853837</td>\n",
       "    </tr>\n",
       "    <tr>\n",
       "      <th>27913</th>\n",
       "      <td>MULTIPOLYGON (((-122.26629249592254 37.8955063...</td>\n",
       "      <td>ROCK LN</td>\n",
       "      <td>BERKELEY</td>\n",
       "      <td>94708.0</td>\n",
       "      <td>20 ROCK LN BERKELEY 94708</td>\n",
       "      <td>-122.266474</td>\n",
       "      <td>37.895477</td>\n",
       "    </tr>\n",
       "    <tr>\n",
       "      <th>1215</th>\n",
       "      <td>MULTIPOLYGON (((-122.24933632166542 37.8532814...</td>\n",
       "      <td>BROOKSIDE DR</td>\n",
       "      <td>BERKELEY</td>\n",
       "      <td>94705.0</td>\n",
       "      <td>181 BROOKSIDE DR BERKELEY 94705</td>\n",
       "      <td>-122.249488</td>\n",
       "      <td>37.853254</td>\n",
       "    </tr>\n",
       "  </tbody>\n",
       "</table>\n",
       "<p>43262 rows × 7 columns</p>\n",
       "</div>"
      ],
      "text/plain": [
       "                                                the_geom         Street  \\\n",
       "12712  MULTIPOLYGON (((-122.2953045993628 37.86952168...         8TH ST   \n",
       "901    MULTIPOLYGON (((-122.24838719631153 37.8571066...       PINE AVE   \n",
       "14534  MULTIPOLYGON (((-122.25519423409801 37.8764891...    HIGHLAND PL   \n",
       "24925  MULTIPOLYGON (((-122.28372085727219 37.8982569...   VINCENTE AVE   \n",
       "19863  MULTIPOLYGON (((-122.26638268519565 37.8834316...      SPRUCE ST   \n",
       "...                                                  ...            ...   \n",
       "22204  MULTIPOLYGON (((-122.28151321716126 37.8872372...     TULARE AVE   \n",
       "13904  MULTIPOLYGON (((-122.2693225584342 37.87059909...     ADDISON ST   \n",
       "4201   MULTIPOLYGON (((-122.27932908962602 37.8537690...  SACRAMENTO ST   \n",
       "27913  MULTIPOLYGON (((-122.26629249592254 37.8955063...        ROCK LN   \n",
       "1215   MULTIPOLYGON (((-122.24933632166542 37.8532814...   BROOKSIDE DR   \n",
       "\n",
       "           City      Zip                            Address   Longitude  \\\n",
       "12712  BERKELEY  94710.0         1909 8TH ST BERKELEY 94710 -122.295504   \n",
       "901    BERKELEY  94705.0       2940 PINE AVE BERKELEY 94705 -122.248536   \n",
       "14534  BERKELEY  94709.0    1771 HIGHLAND PL BERKELEY 94709 -122.255483   \n",
       "24925  BERKELEY  94707.0    543 VINCENTE AVE BERKELEY 94707 -122.283898   \n",
       "19863  BERKELEY  94709.0      1320 SPRUCE ST BERKELEY 94709 -122.266621   \n",
       "...         ...      ...                                ...         ...   \n",
       "22204  BERKELEY  94707.0      983 TULARE AVE BERKELEY 94707 -122.281741   \n",
       "13904  BERKELEY  94704.0     2026 ADDISON ST BERKELEY 94704 -122.269442   \n",
       "4201   BERKELEY  94702.0  2960 SACRAMENTO ST BERKELEY 94702 -122.279507   \n",
       "27913  BERKELEY  94708.0          20 ROCK LN BERKELEY 94708 -122.266474   \n",
       "1215   BERKELEY  94705.0    181 BROOKSIDE DR BERKELEY 94705 -122.249488   \n",
       "\n",
       "        Latitude  \n",
       "12712  37.869435  \n",
       "901    37.857164  \n",
       "14534  37.876607  \n",
       "24925  37.898327  \n",
       "19863  37.883456  \n",
       "...          ...  \n",
       "22204  37.887218  \n",
       "13904  37.870766  \n",
       "4201   37.853837  \n",
       "27913  37.895477  \n",
       "1215   37.853254  \n",
       "\n",
       "[43262 rows x 7 columns]"
      ]
     },
     "execution_count": 139,
     "metadata": {},
     "output_type": "execute_result"
    }
   ],
   "source": [
    "berk_shipments_1"
   ]
  },
  {
   "cell_type": "code",
   "execution_count": 140,
   "id": "03a6b3fe",
   "metadata": {},
   "outputs": [],
   "source": [
    "berk_shipments_1.to_excel('berkeley_shipments_2.xlsx')"
   ]
  },
  {
   "cell_type": "markdown",
   "id": "11942e15",
   "metadata": {},
   "source": [
    "## Skip this section "
   ]
  },
  {
   "cell_type": "code",
   "execution_count": 39,
   "id": "240e3a1e",
   "metadata": {},
   "outputs": [
    {
     "data": {
      "text/plain": [
       "700 UNIVERSITY AVE BERKELEY 94710      177\n",
       "3RD ST BERKELEY 94710                   29\n",
       "CRAGMONT AVE BERKELEY 94708             25\n",
       "KEELER AVE BERKELEY 94708               18\n",
       "2634 VIRGINIA ST BERKELEY 94709         17\n",
       "                                      ... \n",
       "2006 DWIGHT WAY BERKELEY 94704           1\n",
       "2020 DWIGHT WAY BERKELEY 94704           1\n",
       "2520 SHATTUCK AVE BERKELEY 94704         1\n",
       "2514 SHATTUCK AVE BERKELEY 94704         1\n",
       "1510 SAN LORENZO AVE BERKELEY 94707      1\n",
       "Name: Address, Length: 27609, dtype: int64"
      ]
     },
     "execution_count": 39,
     "metadata": {},
     "output_type": "execute_result"
    }
   ],
   "source": [
    "berk_addys['Address'].value_counts()"
   ]
  },
  {
   "cell_type": "code",
   "execution_count": null,
   "id": "5bae2913",
   "metadata": {},
   "outputs": [],
   "source": [
    "berk_shipments.to_csv(ndex = False)"
   ]
  },
  {
   "cell_type": "code",
   "execution_count": 13,
   "id": "a19abef0",
   "metadata": {},
   "outputs": [],
   "source": [
    "compression_opts = dict(method='zip', archive_name='out.csv')  "
   ]
  },
  {
   "cell_type": "code",
   "execution_count": 17,
   "id": "b851dc46",
   "metadata": {},
   "outputs": [],
   "source": [
    "berk_shipments.to_excel('berkeley_shipments.xlsx')"
   ]
  },
  {
   "cell_type": "code",
   "execution_count": 9,
   "id": "80c48027",
   "metadata": {},
   "outputs": [],
   "source": [
    "import geopandas as gpd\n",
    "import geoplot"
   ]
  },
  {
   "cell_type": "code",
   "execution_count": 20,
   "id": "172d66ef",
   "metadata": {},
   "outputs": [],
   "source": [
    "geo_berk = gpd.read_file('berkeley_addresses_3.csv')"
   ]
  },
  {
   "cell_type": "code",
   "execution_count": 22,
   "id": "1b772582",
   "metadata": {},
   "outputs": [],
   "source": [
    "geo_berk.crs = 'epsg:4326'"
   ]
  },
  {
   "cell_type": "code",
   "execution_count": 23,
   "id": "639b9e73",
   "metadata": {},
   "outputs": [
    {
     "data": {
      "text/html": [
       "<div>\n",
       "<style scoped>\n",
       "    .dataframe tbody tr th:only-of-type {\n",
       "        vertical-align: middle;\n",
       "    }\n",
       "\n",
       "    .dataframe tbody tr th {\n",
       "        vertical-align: top;\n",
       "    }\n",
       "\n",
       "    .dataframe thead th {\n",
       "        text-align: right;\n",
       "    }\n",
       "</style>\n",
       "<table border=\"1\" class=\"dataframe\">\n",
       "  <thead>\n",
       "    <tr style=\"text-align: right;\">\n",
       "      <th></th>\n",
       "      <th>the_geom</th>\n",
       "      <th>Street</th>\n",
       "      <th>City</th>\n",
       "      <th>Zip</th>\n",
       "      <th>Address</th>\n",
       "      <th>Longitude</th>\n",
       "      <th>Latitude</th>\n",
       "      <th>geometry</th>\n",
       "    </tr>\n",
       "  </thead>\n",
       "  <tbody>\n",
       "    <tr>\n",
       "      <th>0</th>\n",
       "      <td>MULTIPOLYGON (((-122.26620506714936 37.8520101...</td>\n",
       "      <td>SHATTUCK AVE</td>\n",
       "      <td>BERKELEY</td>\n",
       "      <td>94705</td>\n",
       "      <td>3208 SHATTUCK AVE BERKELEY 94705</td>\n",
       "      <td>-122.2663657</td>\n",
       "      <td>37.85201812</td>\n",
       "      <td>None</td>\n",
       "    </tr>\n",
       "    <tr>\n",
       "      <th>1</th>\n",
       "      <td>MULTIPOLYGON (((-122.26520034486127 37.8521538...</td>\n",
       "      <td>SHATTUCK AVE</td>\n",
       "      <td>BERKELEY</td>\n",
       "      <td>94609</td>\n",
       "      <td>6618 SHATTUCK AVE BERKELEY 94609</td>\n",
       "      <td>-122.2653821</td>\n",
       "      <td>37.85214246</td>\n",
       "      <td>None</td>\n",
       "    </tr>\n",
       "    <tr>\n",
       "      <th>2</th>\n",
       "      <td>MULTIPOLYGON (((-122.26080495483338 37.8527246...</td>\n",
       "      <td>WOOLSEY ST</td>\n",
       "      <td>BERKELEY</td>\n",
       "      <td>94705</td>\n",
       "      <td>2320 WOOLSEY ST BERKELEY 94705</td>\n",
       "      <td>-122.2608877</td>\n",
       "      <td>37.85275106</td>\n",
       "      <td>None</td>\n",
       "    </tr>\n",
       "    <tr>\n",
       "      <th>3</th>\n",
       "      <td>MULTIPOLYGON (((-122.26033584925841 37.8527857...</td>\n",
       "      <td>TELEGRAPH AVE</td>\n",
       "      <td>BERKELEY</td>\n",
       "      <td>94609</td>\n",
       "      <td>6699 TELEGRAPH AVE BERKELEY 94609</td>\n",
       "      <td>-122.2605714</td>\n",
       "      <td>37.8527926</td>\n",
       "      <td>None</td>\n",
       "    </tr>\n",
       "    <tr>\n",
       "      <th>4</th>\n",
       "      <td>MULTIPOLYGON (((-122.26095538499494 37.8527050...</td>\n",
       "      <td>WOOLSEY ST</td>\n",
       "      <td>BERKELEY</td>\n",
       "      <td>94705</td>\n",
       "      <td>2314 WOOLSEY ST BERKELEY 94705</td>\n",
       "      <td>-122.261038</td>\n",
       "      <td>37.85273147</td>\n",
       "      <td>None</td>\n",
       "    </tr>\n",
       "    <tr>\n",
       "      <th>...</th>\n",
       "      <td>...</td>\n",
       "      <td>...</td>\n",
       "      <td>...</td>\n",
       "      <td>...</td>\n",
       "      <td>...</td>\n",
       "      <td>...</td>\n",
       "      <td>...</td>\n",
       "      <td>...</td>\n",
       "    </tr>\n",
       "    <tr>\n",
       "      <th>29019</th>\n",
       "      <td>MULTIPOLYGON (((-122.27202137261557 37.8822481...</td>\n",
       "      <td></td>\n",
       "      <td>BERKELEY</td>\n",
       "      <td></td>\n",
       "      <td></td>\n",
       "      <td>-122.2722424</td>\n",
       "      <td>37.88213553</td>\n",
       "      <td>None</td>\n",
       "    </tr>\n",
       "    <tr>\n",
       "      <th>29020</th>\n",
       "      <td>MULTIPOLYGON (((-122.27202137261557 37.8822481...</td>\n",
       "      <td></td>\n",
       "      <td>BERKELEY</td>\n",
       "      <td></td>\n",
       "      <td></td>\n",
       "      <td>-122.2722424</td>\n",
       "      <td>37.88213553</td>\n",
       "      <td>None</td>\n",
       "    </tr>\n",
       "    <tr>\n",
       "      <th>29021</th>\n",
       "      <td>MULTIPOLYGON (((-122.26327229458647 37.8936356...</td>\n",
       "      <td></td>\n",
       "      <td>BERKELEY</td>\n",
       "      <td></td>\n",
       "      <td></td>\n",
       "      <td>-122.2633073</td>\n",
       "      <td>37.89355103</td>\n",
       "      <td>None</td>\n",
       "    </tr>\n",
       "    <tr>\n",
       "      <th>29022</th>\n",
       "      <td>MULTIPOLYGON (((-122.24395854671214 37.8572037...</td>\n",
       "      <td></td>\n",
       "      <td>BERKELEY</td>\n",
       "      <td></td>\n",
       "      <td></td>\n",
       "      <td>-122.2441484</td>\n",
       "      <td>37.85726012</td>\n",
       "      <td>None</td>\n",
       "    </tr>\n",
       "    <tr>\n",
       "      <th>29023</th>\n",
       "      <td>MULTIPOLYGON (((-122.24395854671214 37.8572037...</td>\n",
       "      <td></td>\n",
       "      <td>BERKELEY</td>\n",
       "      <td></td>\n",
       "      <td></td>\n",
       "      <td>-122.2441484</td>\n",
       "      <td>37.85726012</td>\n",
       "      <td>None</td>\n",
       "    </tr>\n",
       "  </tbody>\n",
       "</table>\n",
       "<p>29024 rows × 8 columns</p>\n",
       "</div>"
      ],
      "text/plain": [
       "                                                the_geom         Street  \\\n",
       "0      MULTIPOLYGON (((-122.26620506714936 37.8520101...   SHATTUCK AVE   \n",
       "1      MULTIPOLYGON (((-122.26520034486127 37.8521538...   SHATTUCK AVE   \n",
       "2      MULTIPOLYGON (((-122.26080495483338 37.8527246...     WOOLSEY ST   \n",
       "3      MULTIPOLYGON (((-122.26033584925841 37.8527857...  TELEGRAPH AVE   \n",
       "4      MULTIPOLYGON (((-122.26095538499494 37.8527050...     WOOLSEY ST   \n",
       "...                                                  ...            ...   \n",
       "29019  MULTIPOLYGON (((-122.27202137261557 37.8822481...                  \n",
       "29020  MULTIPOLYGON (((-122.27202137261557 37.8822481...                  \n",
       "29021  MULTIPOLYGON (((-122.26327229458647 37.8936356...                  \n",
       "29022  MULTIPOLYGON (((-122.24395854671214 37.8572037...                  \n",
       "29023  MULTIPOLYGON (((-122.24395854671214 37.8572037...                  \n",
       "\n",
       "           City    Zip                            Address     Longitude  \\\n",
       "0      BERKELEY  94705   3208 SHATTUCK AVE BERKELEY 94705  -122.2663657   \n",
       "1      BERKELEY  94609   6618 SHATTUCK AVE BERKELEY 94609  -122.2653821   \n",
       "2      BERKELEY  94705     2320 WOOLSEY ST BERKELEY 94705  -122.2608877   \n",
       "3      BERKELEY  94609  6699 TELEGRAPH AVE BERKELEY 94609  -122.2605714   \n",
       "4      BERKELEY  94705     2314 WOOLSEY ST BERKELEY 94705   -122.261038   \n",
       "...         ...    ...                                ...           ...   \n",
       "29019  BERKELEY                                            -122.2722424   \n",
       "29020  BERKELEY                                            -122.2722424   \n",
       "29021  BERKELEY                                            -122.2633073   \n",
       "29022  BERKELEY                                            -122.2441484   \n",
       "29023  BERKELEY                                            -122.2441484   \n",
       "\n",
       "          Latitude geometry  \n",
       "0      37.85201812     None  \n",
       "1      37.85214246     None  \n",
       "2      37.85275106     None  \n",
       "3       37.8527926     None  \n",
       "4      37.85273147     None  \n",
       "...            ...      ...  \n",
       "29019  37.88213553     None  \n",
       "29020  37.88213553     None  \n",
       "29021  37.89355103     None  \n",
       "29022  37.85726012     None  \n",
       "29023  37.85726012     None  \n",
       "\n",
       "[29024 rows x 8 columns]"
      ]
     },
     "execution_count": 23,
     "metadata": {},
     "output_type": "execute_result"
    }
   ],
   "source": []
  },
  {
   "cell_type": "code",
   "execution_count": 32,
   "id": "787cb62c",
   "metadata": {},
   "outputs": [],
   "source": [
    "geo_berk.to_file('berk_ships_1.geojson', driver='GeoJSON')\n"
   ]
  },
  {
   "cell_type": "markdown",
   "id": "8971bf04",
   "metadata": {},
   "source": [
    "## Continue from here"
   ]
  },
  {
   "cell_type": "code",
   "execution_count": 8,
   "id": "fea61e4f",
   "metadata": {},
   "outputs": [
    {
     "ename": "NameError",
     "evalue": "name 'gpd' is not defined",
     "output_type": "error",
     "traceback": [
      "\u001b[0;31m---------------------------------------------------------------------------\u001b[0m",
      "\u001b[0;31mNameError\u001b[0m                                 Traceback (most recent call last)",
      "\u001b[0;32m/tmp/ipykernel_24/2930827374.py\u001b[0m in \u001b[0;36m<module>\u001b[0;34m\u001b[0m\n\u001b[0;32m----> 1\u001b[0;31m \u001b[0mgeo_berk2\u001b[0m \u001b[0;34m=\u001b[0m \u001b[0mgpd\u001b[0m\u001b[0;34m.\u001b[0m\u001b[0mread_file\u001b[0m\u001b[0;34m(\u001b[0m\u001b[0;34m'berkeley_shipments_2.csv'\u001b[0m\u001b[0;34m)\u001b[0m\u001b[0;34m\u001b[0m\u001b[0;34m\u001b[0m\u001b[0m\n\u001b[0m\u001b[1;32m      2\u001b[0m \u001b[0mgeo_berk2\u001b[0m\u001b[0;34m.\u001b[0m\u001b[0mcrs\u001b[0m \u001b[0;34m=\u001b[0m \u001b[0;34m'epsg:4326'\u001b[0m\u001b[0;34m\u001b[0m\u001b[0;34m\u001b[0m\u001b[0m\n",
      "\u001b[0;31mNameError\u001b[0m: name 'gpd' is not defined"
     ]
    }
   ],
   "source": [
    "geo_berk2 = gpd.read_file('berkeley_shipments_2.csv')\n",
    "geo_berk2.crs = 'epsg:4326'"
   ]
  },
  {
   "cell_type": "code",
   "execution_count": 144,
   "id": "5f8c8e09",
   "metadata": {},
   "outputs": [],
   "source": [
    "geo_berk2.to_file('berk_ships_2.geojson', driver='GeoJSON')"
   ]
  },
  {
   "cell_type": "code",
   "execution_count": 148,
   "id": "3be3909a",
   "metadata": {},
   "outputs": [
    {
     "data": {
      "text/plain": [
       "2619 HILLEGASS AVE BERKELEY 94704     1\n",
       "2815 STANTON ST BERKELEY 94702        1\n",
       "464 VASSAR AVE BERKELEY 94708         1\n",
       "1312 CEDAR ST BERKELEY 94702          1\n",
       "801 JONES ST BERKELEY 94710           1\n",
       "                                     ..\n",
       "1608 ACTON ST BERKELEY 94702          1\n",
       "1242 EVELYN AVE BERKELEY 94706        1\n",
       "2027 WOOLSEY ST BERKELEY 94703        1\n",
       "1625 BEVERLY PL BERKELEY 94707        1\n",
       "1674 CAPISTRANO AVE BERKELEY 94707    1\n",
       "Name: Address, Length: 90, dtype: int64"
      ]
     },
     "execution_count": 148,
     "metadata": {},
     "output_type": "execute_result"
    }
   ],
   "source": [
    "geo_berk2['Address'].value_counts().sort_values(ascending = False).nsmallest(90)"
   ]
  },
  {
   "cell_type": "code",
   "execution_count": null,
   "id": "a3069525",
   "metadata": {},
   "outputs": [],
   "source": []
  }
 ],
 "metadata": {
  "kernelspec": {
   "display_name": "Python 3 (ipykernel)",
   "language": "python",
   "name": "python3"
  },
  "language_info": {
   "codemirror_mode": {
    "name": "ipython",
    "version": 3
   },
   "file_extension": ".py",
   "mimetype": "text/x-python",
   "name": "python",
   "nbconvert_exporter": "python",
   "pygments_lexer": "ipython3",
   "version": "3.9.7"
  }
 },
 "nbformat": 4,
 "nbformat_minor": 5
}
