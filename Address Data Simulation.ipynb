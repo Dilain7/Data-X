{
 "cells": [
  {
   "cell_type": "code",
   "execution_count": 1,
   "id": "4f34fdd6-6e2c-469f-9d30-78e42ef18714",
   "metadata": {},
   "outputs": [
    {
     "name": "stdout",
     "output_type": "stream",
     "text": [
      "Requirement already satisfied: osmnx in /opt/conda/lib/python3.9/site-packages (1.1.2)\n",
      "Requirement already satisfied: pyproj>=3.2 in /opt/conda/lib/python3.9/site-packages (from osmnx) (3.2.1)\n",
      "Requirement already satisfied: pandas>=1.3 in /opt/conda/lib/python3.9/site-packages (from osmnx) (1.3.4)\n",
      "Requirement already satisfied: Rtree>=0.9 in /opt/conda/lib/python3.9/site-packages (from osmnx) (0.9.7)\n",
      "Requirement already satisfied: geopandas>=0.10 in /opt/conda/lib/python3.9/site-packages (from osmnx) (0.10.2)\n",
      "Requirement already satisfied: matplotlib>=3.4 in /opt/conda/lib/python3.9/site-packages (from osmnx) (3.4.3)\n",
      "Requirement already satisfied: numpy>=1.21 in /opt/conda/lib/python3.9/site-packages (from osmnx) (1.21.3)\n",
      "Requirement already satisfied: Shapely<2.0,>=1.7 in /opt/conda/lib/python3.9/site-packages (from osmnx) (1.8.0)\n",
      "Requirement already satisfied: networkx>=2.6 in /opt/conda/lib/python3.9/site-packages (from osmnx) (2.6.3)\n",
      "Requirement already satisfied: requests>=2.26 in /opt/conda/lib/python3.9/site-packages (from osmnx) (2.26.0)\n",
      "Requirement already satisfied: certifi in /opt/conda/lib/python3.9/site-packages (from pyproj>=3.2->osmnx) (2019.11.28)\n",
      "Requirement already satisfied: python-dateutil>=2.7.3 in /opt/conda/lib/python3.9/site-packages (from pandas>=1.3->osmnx) (2.8.0)\n",
      "Requirement already satisfied: pytz>=2017.3 in /opt/conda/lib/python3.9/site-packages (from pandas>=1.3->osmnx) (2021.1)\n",
      "Requirement already satisfied: fiona>=1.8 in /opt/conda/lib/python3.9/site-packages (from geopandas>=0.10->osmnx) (1.8.20)\n",
      "Requirement already satisfied: pyparsing>=2.2.1 in /opt/conda/lib/python3.9/site-packages (from matplotlib>=3.4->osmnx) (2.4.7)\n",
      "Requirement already satisfied: pillow>=6.2.0 in /opt/conda/lib/python3.9/site-packages (from matplotlib>=3.4->osmnx) (8.3.2)\n",
      "Requirement already satisfied: cycler>=0.10 in /opt/conda/lib/python3.9/site-packages (from matplotlib>=3.4->osmnx) (0.11.0)\n",
      "Requirement already satisfied: kiwisolver>=1.0.1 in /opt/conda/lib/python3.9/site-packages (from matplotlib>=3.4->osmnx) (1.3.2)\n",
      "Requirement already satisfied: charset-normalizer~=2.0.0; python_version >= \"3\" in /opt/conda/lib/python3.9/site-packages (from requests>=2.26->osmnx) (2.0.0)\n",
      "Requirement already satisfied: idna<4,>=2.5; python_version >= \"3\" in /opt/conda/lib/python3.9/site-packages (from requests>=2.26->osmnx) (2.8)\n",
      "Requirement already satisfied: urllib3<1.27,>=1.21.1 in /opt/conda/lib/python3.9/site-packages (from requests>=2.26->osmnx) (1.25.7)\n",
      "Requirement already satisfied: six>=1.5 in /opt/conda/lib/python3.9/site-packages (from python-dateutil>=2.7.3->pandas>=1.3->osmnx) (1.16.0)\n",
      "Requirement already satisfied: click-plugins>=1.0 in /opt/conda/lib/python3.9/site-packages (from fiona>=1.8->geopandas>=0.10->osmnx) (1.1.1)\n",
      "Requirement already satisfied: cligj>=0.5 in /opt/conda/lib/python3.9/site-packages (from fiona>=1.8->geopandas>=0.10->osmnx) (0.7.2)\n",
      "Requirement already satisfied: munch in /opt/conda/lib/python3.9/site-packages (from fiona>=1.8->geopandas>=0.10->osmnx) (2.5.0)\n",
      "Requirement already satisfied: setuptools in /opt/conda/lib/python3.9/site-packages (from fiona>=1.8->geopandas>=0.10->osmnx) (58.2.0)\n",
      "Requirement already satisfied: attrs>=17 in /opt/conda/lib/python3.9/site-packages (from fiona>=1.8->geopandas>=0.10->osmnx) (19.3.0)\n",
      "Requirement already satisfied: click>=4.0 in /opt/conda/lib/python3.9/site-packages (from fiona>=1.8->geopandas>=0.10->osmnx) (8.0.3)\n",
      "Note: you may need to restart the kernel to use updated packages.\n"
     ]
    }
   ],
   "source": [
    "pip install osmnx"
   ]
  },
  {
   "cell_type": "code",
   "execution_count": 2,
   "id": "1f1d5428",
   "metadata": {},
   "outputs": [],
   "source": [
    "import numpy as np \n",
    "import pandas as pd\n",
    "import geopandas as gpd\n",
    "import osmnx as ox\n",
    "import folium\n",
    "import matplotlib.pyplot as plt\n",
    "import seaborn as sns"
   ]
  },
  {
   "cell_type": "code",
   "execution_count": 3,
   "id": "f778f038",
   "metadata": {},
   "outputs": [],
   "source": [
    "import requests\n",
    "import json\n",
    "overpass_url = \"http://overpass-api.de/api/interpreter\"\n",
    "overpass_query = \"\"\"\n",
    "[out:json];\n",
    "area[\"ISO3166-1\"=\"US\"][admin_level=2];\n",
    "(node[\"city\"=\"Berkeley\"](area);\n",
    " way[\"amenity\"=\"cafe\"](area);\n",
    " rel[\"amenity\"=\"cafe\"](area);\n",
    ");\n",
    "out center;\n",
    "\"\"\"\n",
    "response = requests.get(overpass_url, \n",
    "                        params={'data': overpass_query})\n",
    "data = response.json()"
   ]
  },
  {
   "cell_type": "code",
   "execution_count": 4,
   "id": "9bb3e290",
   "metadata": {},
   "outputs": [],
   "source": [
    "# Collect coords into list\n",
    "coords = []\n",
    "for element in data['elements']:\n",
    "\n",
    "    if element['type'] == 'node':\n",
    "        lon = element['lon']\n",
    "        lat = element['lat']\n",
    "        coords.append((lon, lat))\n",
    "    elif 'center' in element:\n",
    "        lon = element['center']['lon']\n",
    "        lat = element['center']['lat']\n",
    "        coords.append((lon, lat))\n",
    "# Convert coordinates into numpy array\n",
    "X = np.array(coords)"
   ]
  },
  {
   "cell_type": "code",
   "execution_count": 5,
   "id": "40f7dea8",
   "metadata": {},
   "outputs": [],
   "source": [
    "# place = \"Liverpool, United Kingdom\"\n",
    "# graph = ox.graph_from_place(place, network_type='drive')"
   ]
  },
  {
   "cell_type": "code",
   "execution_count": null,
   "id": "a7e47f41",
   "metadata": {},
   "outputs": [],
   "source": [
    "\n"
   ]
  },
  {
   "cell_type": "code",
   "execution_count": 6,
   "id": "7a91dc44",
   "metadata": {},
   "outputs": [],
   "source": [
    "# place = \"San Francisco, United States\"\n",
    "# graph = ox.graph_from_place(place, network_type = \"drive\")\n",
    "# len(graph)"
   ]
  },
  {
   "cell_type": "code",
   "execution_count": null,
   "id": "4d2be790",
   "metadata": {
    "scrolled": true
   },
   "outputs": [],
   "source": [
    "# place = 'San Francisco, United States'\n",
    "# cafe = ox.graph_from_place(place)\n",
    "# cafe.head()"
   ]
  },
  {
   "cell_type": "code",
   "execution_count": null,
   "id": "d6c9f2ea",
   "metadata": {},
   "outputs": [],
   "source": [
    "place = 'San Francisco, United States'\n"
   ]
  },
  {
   "cell_type": "code",
   "execution_count": null,
   "id": "4da08eb4",
   "metadata": {},
   "outputs": [],
   "source": [
    "cafe_points = cafe[cafe.geom_type == 'Point']\n",
    "\n",
    "style = {'color': '#F7DC6F' , 'weight' : '1'}\n",
    "m = folium.Map([37.773972, -122.431297], zoom_start=10, tiles= 'CartoDb dark_matter')\n",
    "locs = zip(cafe_points.geometry.y, cafe_points.geometry.x)\n",
    "#folium.GeoJson(buildings, style_function=lambda x: style_buildings).add_to(m)\n",
    "for location in locs:\n",
    "    folium.CircleMarker(location=location, color = '#F7DC6F', radius=2).add_to(m)\n",
    "    m.save('cafes.html')\n",
    "m"
   ]
  },
  {
   "cell_type": "code",
   "execution_count": null,
   "id": "2a02017e",
   "metadata": {},
   "outputs": [],
   "source": []
  }
 ],
 "metadata": {
  "kernelspec": {
   "display_name": "Python 3 (ipykernel)",
   "language": "python",
   "name": "python3"
  },
  "language_info": {
   "codemirror_mode": {
    "name": "ipython",
    "version": 3
   },
   "file_extension": ".py",
   "mimetype": "text/x-python",
   "name": "python",
   "nbconvert_exporter": "python",
   "pygments_lexer": "ipython3",
   "version": "3.9.7"
  }
 },
 "nbformat": 4,
 "nbformat_minor": 5
}
